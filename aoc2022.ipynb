{
  "cells": [
    {
      "cell_type": "markdown",
      "metadata": {
        "id": "6b-qo8hUQtk4"
      },
      "source": [
        "# **DAY 1**\n",
        "\n",
        "\n"
      ]
    },
    {
      "cell_type": "code",
      "execution_count": null,
      "metadata": {
        "colab": {
          "base_uri": "https://localhost:8080/"
        },
        "id": "KQHdw8GJWZgn",
        "outputId": "f23a9c3f-9865-4cb3-957a-f1b5d50eef3a"
      },
      "outputs": [],
      "source": [
        "# read file with data input and create data structures \n",
        "\n",
        "dictionary = {}\n",
        "list_item = []\n",
        "count_elves = 0\n",
        "\n",
        "with open(\"day1_input.txt\") as file:\n",
        "  for line in file:\n",
        "    str_line = line.strip()\n",
        "    if str_line == \"\":\n",
        "      count_elves = count_elves+1\n",
        "      dictionary[count_elves] = list_item.copy()\n",
        "      list_item.clear()\n",
        "    else:\n",
        "      int_line = int(str_line)\n",
        "      list_item.append(int_line)\n"
      ]
    },
    {
      "cell_type": "code",
      "execution_count": null,
      "metadata": {
        "colab": {
          "base_uri": "https://localhost:8080/"
        },
        "id": "sOEKkE03h5bA",
        "outputId": "7535b28b-0d46-4826-e801-cf56162364f8"
      },
      "outputs": [],
      "source": [
        "# find elf with max of calories\n",
        "max = 0\n",
        "list_sum = []\n",
        "\n",
        "for key in dictionary:\n",
        "  list_value = dictionary[key]\n",
        "  sum_item = 0\n",
        "  for element in list_value:\n",
        "    sum_item += element\n",
        "  list_sum.append(sum_item)  \n",
        "  if sum_item >= max:\n",
        "    max = sum_item\n",
        "\n",
        "print(max) "
      ]
    },
    {
      "cell_type": "code",
      "execution_count": null,
      "metadata": {
        "colab": {
          "base_uri": "https://localhost:8080/"
        },
        "id": "lLhI-yucks9A",
        "outputId": "4b835e8f-82b0-4563-8307-42a2c523c25b"
      },
      "outputs": [],
      "source": [
        "# PART 2\n",
        "max_three = 0\n",
        "list_sum.sort()\n",
        "for element in list_sum[-3::]:\n",
        "  max_three += element\n",
        "print(max_three)\n",
        "\n",
        "\n"
      ]
    },
    {
      "cell_type": "markdown",
      "metadata": {
        "id": "oXKfmExNM1hu"
      },
      "source": [
        "# **DAY 2**"
      ]
    },
    {
      "cell_type": "code",
      "execution_count": 2,
      "metadata": {
        "colab": {
          "base_uri": "https://localhost:8080/"
        },
        "id": "P_mVbxKWM6en",
        "outputId": "596da932-0988-40cb-a20f-c66839724e0f"
      },
      "outputs": [],
      "source": [
        "# read input file \n",
        "list_combo = []\n",
        "\n",
        "with open(\"day2_input.txt\") as file:\n",
        "  for line in file:\n",
        "    strline = line.strip()\n",
        "    if strline == \"\":\n",
        "      pass\n",
        "    else:\n",
        "      list_tmp = []\n",
        "      list_tmp.append(strline[0])\n",
        "      list_tmp.append(strline[2])\n",
        "      list_combo.append(list_tmp)\n"
      ]
    },
    {
      "cell_type": "code",
      "execution_count": null,
      "metadata": {
        "colab": {
          "base_uri": "https://localhost:8080/"
        },
        "id": "oLiYdlWaUuBX",
        "outputId": "de535031-c83b-4de6-8e9b-f985f849600f"
      },
      "outputs": [],
      "source": [
        "# find final score\n",
        "score = 0\n",
        "\n",
        "list_enemy_choice = ['A','B','C']\n",
        "list_my_choice = ['X', 'Y', 'Z']\n",
        "\n",
        "def right_position(element):\n",
        "  list_mod = []\n",
        "  if element[0] == 'B':\n",
        "    list_mod.append('B')\n",
        "    list_mod.append('C')\n",
        "    list_mod.append('A')\n",
        "  elif element[0] == 'A':\n",
        "    list_mod.append('A')\n",
        "    list_mod.append('B')\n",
        "    list_mod.append('C')\n",
        "  elif element[0] == 'C':\n",
        "    list_mod.append('C')\n",
        "    list_mod.append('A')\n",
        "    list_mod.append('B')\n",
        "  return list_mod  \n",
        "\n",
        "def combination(x, list_y):\n",
        "  index = list_y.index(x)\n",
        "  if index == 0:\n",
        "    return 3\n",
        "  elif index == 1:\n",
        "    return 6\n",
        "  return 0 \n",
        "\n",
        "for element in list_combo:\n",
        "  score += list_my_choice.index(element[1])+1\n",
        "  list_tmp = right_position(element)\n",
        "  index_choice = list_my_choice.index(element[1])\n",
        "  score += combination(list_enemy_choice[index_choice], list_tmp)\n",
        "\n",
        "\n",
        "print(score)  "
      ]
    },
    {
      "cell_type": "code",
      "execution_count": null,
      "metadata": {
        "colab": {
          "base_uri": "https://localhost:8080/"
        },
        "id": "sSZA9azlCpEZ",
        "outputId": "d17e7136-a9bc-4016-a203-aba1a8788aeb"
      },
      "outputs": [],
      "source": [
        "# part 2\n",
        "\n",
        "right_score = 0\n",
        "\n",
        "def result(x,list_prediction):\n",
        "  score = 0\n",
        "  if x == 'X':\n",
        "    score += 0\n",
        "    score += sign(list_prediction[2])\n",
        "  elif x == 'Y':\n",
        "    score += 3\n",
        "    score += sign(list_prediction[0])\n",
        "  elif x == 'Z':\n",
        "    score += 6\n",
        "    score += sign(list_prediction[1])   \n",
        "  return score \n",
        "\n",
        "def sign(x):\n",
        "  if x == 'A':\n",
        "    return 1  \n",
        "  elif x == 'B':\n",
        "    return 2\n",
        "  return 3\n",
        "\n",
        "for element in list_combo:\n",
        "  list_tmp = right_position(element)\n",
        "  right_score += result(element[1], list_tmp)\n",
        "\n",
        "print(right_score)  "
      ]
    },
    {
      "cell_type": "markdown",
      "metadata": {},
      "source": [
        "# **DAY 3**"
      ]
    },
    {
      "cell_type": "code",
      "execution_count": null,
      "metadata": {},
      "outputs": [],
      "source": [
        "list_elements = []\n",
        "\n",
        "with open(\"day3_input.txt\") as file:\n",
        "  for line in file:\n",
        "    str_line = line.strip()\n",
        "    list_elements.append(str_line)\n",
        "\n",
        "print(list_elements)"
      ]
    },
    {
      "cell_type": "code",
      "execution_count": null,
      "metadata": {},
      "outputs": [],
      "source": [
        "sum = 0\n",
        "\n",
        "def find_sum(x):\n",
        "  if x.isupper():\n",
        "    return abs(ord(x)+62-100)\n",
        "  return abs(ord(x)+4-100)  \n",
        "\n",
        "\n",
        "for element in list_elements:\n",
        "  first = element[0:int(len(element)/2)]\n",
        "  second = element[int(len(element)/2):len(element)]\n",
        "  first_list = list(set(first))\n",
        "  second_list = list(set(second))\n",
        "  final_list = first_list + second_list\n",
        "  duplicates = [x for x in final_list if final_list.count(x) > 1]\n",
        "  if len(duplicates)>0:\n",
        "    sum += find_sum(duplicates[0])\n",
        "\n",
        "print(sum)    \n"
      ]
    },
    {
      "cell_type": "code",
      "execution_count": null,
      "metadata": {},
      "outputs": [],
      "source": [
        "# part 2 \n",
        "group_sum = 0\n",
        "group_list = []\n",
        "\n",
        "i = 0\n",
        "while i < len(list_elements)-1:\n",
        "  for i in range(i, i+3):\n",
        "    group_list += set(list_elements[i])\n",
        "    i = i+1\n",
        "  duplicates = [x for x in group_list if group_list.count(x) > 2]\n",
        "  group_sum+= find_sum(duplicates[0])  \n",
        "  group_list.clear()\n",
        "\n",
        "print(group_sum)"
      ]
    },
    {
      "cell_type": "markdown",
      "metadata": {},
      "source": [
        "# **DAY 4**"
      ]
    },
    {
      "cell_type": "code",
      "execution_count": 1,
      "metadata": {},
      "outputs": [],
      "source": [
        "list_elements = []\n",
        "\n",
        "with open(\"day4_input.txt\") as file:\n",
        "  for line in file:\n",
        "    str_line = line.strip().replace('-', \" \").replace(',', \" \").split(\" \")\n",
        "    list_elements.append([int(x) for x in str_line if type(x)== str])"
      ]
    },
    {
      "cell_type": "code",
      "execution_count": null,
      "metadata": {},
      "outputs": [],
      "source": [
        "def findsubset(x,y):\n",
        "  if len(x) >= len(y):\n",
        "    value = len(x)\n",
        "  else:\n",
        "    value = len(y)  \n",
        "  x += y\n",
        "  set_list = set(x)\n",
        "  if len(set_list) == value:\n",
        "    return True  \n",
        "  return False  \n",
        "  \n",
        "\n",
        "count = 0\n",
        "\n",
        "for element in list_elements:\n",
        "  list_first = [x for x in range(element[0], element[1]+1)]\n",
        "  list_second = [x for x in range(element[2], element[3]+1)]\n",
        "  if findsubset(list_first, list_second):\n",
        "    count += 1\n",
        "\n",
        "print(count)      "
      ]
    },
    {
      "cell_type": "code",
      "execution_count": null,
      "metadata": {},
      "outputs": [],
      "source": [
        "# part 2\n",
        "\n",
        "def findoverlap(x, y):\n",
        "  target = len(x) + len(y)\n",
        "  x += y\n",
        "  set_list = set(x)\n",
        "  if len(set_list) == target:\n",
        "    return False\n",
        "  return True  \n",
        "\n",
        "count = 0\n",
        "\n",
        "for element in list_elements:\n",
        "  list_first = [x for x in range(element[0], element[1]+1)]\n",
        "  list_second = [x for x in range(element[2], element[3]+1)]\n",
        "  if findoverlap(list_first, list_second):\n",
        "    count += 1\n",
        "\n",
        "print(count)"
      ]
    },
    {
      "cell_type": "markdown",
      "metadata": {},
      "source": [
        "# **DAY 5**"
      ]
    },
    {
      "cell_type": "code",
      "execution_count": 45,
      "metadata": {},
      "outputs": [],
      "source": [
        "def open_file_5():\n",
        "  map = {}\n",
        "  list_move = []\n",
        "  with open(\"day5_input.txt\") as file:\n",
        "    for line in file:\n",
        "      if line.find(\"[\") != -1:\n",
        "        list_element = [line[x] for x in range(1,len(line.rstrip()),4)]\n",
        "        [map.setdefault(x+1, []).append(list_element[x]) for x in range(0, len(list_element)) if list_element[x] != ' ']\n",
        "      elif line.find(\"move\") != -1:\n",
        "        line = line.rstrip().split()\n",
        "        list_move.append([line[x]for x in range(1, 6, 2)])\n",
        "  return map, list_move      \n",
        "  "
      ]
    },
    {
      "cell_type": "code",
      "execution_count": 47,
      "metadata": {},
      "outputs": [],
      "source": [
        "map, list_move = open_file_5()\n",
        "for element in list_move:\n",
        "  list_change = map[int(element[1])][0:int(element[0])]\n",
        "  map[int(element[2])][0:0] = list_change[::-1]\n",
        "  map[int(element[1])][0:int(element[0])] = []"
      ]
    },
    {
      "cell_type": "code",
      "execution_count": null,
      "metadata": {},
      "outputs": [],
      "source": [
        "result = \"\"\n",
        "for x in sorted(map.keys()):\n",
        "  result+= map[x][0]\n",
        "print(result)  "
      ]
    },
    {
      "cell_type": "code",
      "execution_count": 43,
      "metadata": {},
      "outputs": [],
      "source": [
        "map, list_move = open_file_5()\n",
        "for element in list_move:\n",
        "  list_change = map[int(element[1])][0:int(element[0])]\n",
        "  map[int(element[2])][0:0] = list_change\n",
        "  map[int(element[1])][0:int(element[0])] = []"
      ]
    },
    {
      "cell_type": "markdown",
      "metadata": {},
      "source": [
        "# **DAY 6**"
      ]
    },
    {
      "cell_type": "code",
      "execution_count": 26,
      "metadata": {},
      "outputs": [],
      "source": [
        "signal = \"\"\n",
        "with open(\"day6_input.txt\") as file:\n",
        "  for line in file:\n",
        "    signal += line.rstrip()   "
      ]
    },
    {
      "cell_type": "code",
      "execution_count": null,
      "metadata": {},
      "outputs": [],
      "source": [
        "def find_marker(signal, value):\n",
        "    pos = 0\n",
        "    for i in range(0, len(signal)-(value-1)):\n",
        "        if len(set([x for x in signal[i:i+value]])) == value:\n",
        "            pos += value\n",
        "            break\n",
        "        pos += 1\n",
        "    return pos \n",
        "\n",
        "pos = find_marker(signal, 4) \n",
        "print(pos)      "
      ]
    },
    {
      "cell_type": "code",
      "execution_count": 28,
      "metadata": {},
      "outputs": [
        {
          "name": "stdout",
          "output_type": "stream",
          "text": [
            "3551\n"
          ]
        }
      ],
      "source": [
        "#part 2\n",
        "\n",
        "pos = find_marker(signal, 14)\n",
        "print(pos)"
      ]
    },
    {
      "cell_type": "markdown",
      "metadata": {},
      "source": [
        "# **DAY 7**"
      ]
    },
    {
      "cell_type": "code",
      "execution_count": null,
      "metadata": {},
      "outputs": [],
      "source": [
        "\n",
        "list_element = []\n",
        "with open(\"day7_input.txt\") as file:\n",
        "  for line in file:\n",
        "    list_element.append(line.rstrip())\n",
        "\n",
        "list_element = list(map(lambda x: x.replace('$ cd ..','break'),list_element))\n",
        "print(list_element)\n",
        "  "
      ]
    },
    {
      "cell_type": "code",
      "execution_count": null,
      "metadata": {},
      "outputs": [],
      "source": [
        "list_dir=[]\n",
        "dic_last_index = {}\n",
        "con = 0\n",
        "\t\n",
        "\n",
        "def dic_size(start) :\n",
        "    sum = 0\n",
        "    index = 0\n",
        "    if  '$ ls' in list_element[start+2 ::]:\n",
        "        end = list_element.index(\"$ ls\", start + 2)\n",
        "    else:\n",
        "        end = len(list_element)+1    \n",
        "    for i in list_element[start:end-1]:\n",
        "        value = i.split(\" \")\n",
        "        if value[0].isdigit():\n",
        "            sum += int(value[0])\n",
        "        if value [0] == \"dir\":\n",
        "            if value[1] in dic_last_index:\n",
        "                index = list_element.index(\"$ cd \" + value[1], dic_last_index[value[1]]+1)\n",
        "                dic_last_index[value[1]] = index\n",
        "            else :\n",
        "                index = list_element.index(\"$ cd \" + value[1])\n",
        "                dic_last_index[value[1]] = index\n",
        "            sum_partial= dic_size(index) \n",
        "            sum += sum_partial\n",
        "    list_dir.append([list_element[start].split(\" \")[2], sum, index])\n",
        "    return sum\n",
        "\n",
        "dic_size(0)\n",
        "print(list_dir)\n",
        "\n",
        "\n"
      ]
    },
    {
      "cell_type": "code",
      "execution_count": null,
      "metadata": {},
      "outputs": [],
      "source": [
        "value = 0\n",
        "for i in [x[1] for x in list_dir if x[1] <= 100000]:\n",
        "    value += i\n",
        "print(value)    "
      ]
    },
    {
      "cell_type": "code",
      "execution_count": null,
      "metadata": {},
      "outputs": [],
      "source": [
        "# part 2\n",
        "space_left = abs((list_dir[-1][1]-70000000))\n",
        "space_require = 30000000 - space_left\n",
        "lista = [x[1] for x in list_dir if x[1] >= 8690120]\n",
        "lista.sort()\n",
        "print(lista[0])"
      ]
    },
    {
      "cell_type": "markdown",
      "metadata": {},
      "source": [
        "# **DAY 8**"
      ]
    },
    {
      "cell_type": "code",
      "execution_count": 22,
      "metadata": {},
      "outputs": [],
      "source": [
        "matrix = []\n",
        "with open(\"day8_input.txt\")as file:\n",
        "    for line in file:\n",
        "        matrix.append(list(map(int, line.strip())))\n",
        " \n",
        "row_element = len(matrix)\n",
        "col_element = len(matrix[0])        \n"
      ]
    },
    {
      "cell_type": "code",
      "execution_count": 326,
      "metadata": {},
      "outputs": [],
      "source": [
        "visible_trees = 0\n",
        "\n",
        "visible_trees += (row_element*2) + (col_element*2-4)\n",
        "\n",
        "for row in range(1,row_element-1):\n",
        "    for col in range(1,col_element-1):\n",
        "        # left\n",
        "        if matrix[row][col] > max([x for x in matrix[row][0:col]]):\n",
        "            visible_trees += 1\n",
        "            continue\n",
        "        # right    \n",
        "        elif matrix[row][col] > max([x for x in matrix[row][col+1: col_element]]):\n",
        "            visible_trees += 1\n",
        "            continue\n",
        "        # top\n",
        "        elif matrix[row][col] > max([x[col] for x in matrix[0:row]]):\n",
        "            visible_trees += 1\n",
        "            continue\n",
        "        # bottom\n",
        "        elif matrix[row][col] > max([x[col] for x in matrix[row+1:]]):\n",
        "            visible_trees += 1\n",
        "            continue\n",
        "\n",
        "\n",
        "print(visible_trees)        "
      ]
    },
    {
      "cell_type": "code",
      "execution_count": 329,
      "metadata": {},
      "outputs": [],
      "source": [
        "\n",
        "best_score_view = 0\n",
        "\n",
        "def find_trees(list_trees, value) : \n",
        "    count = 0\n",
        "    for i in list_trees:\n",
        "        count += 1\n",
        "        if i >= value:\n",
        "            break   \n",
        "    return count\n",
        "\n",
        "\n",
        "for row in range(1,row_element-1):\n",
        "    for col in range(1,col_element-1):\n",
        "        score = 1\n",
        "        # left\n",
        "        score *= find_trees([x for x in reversed(matrix[row][0:col])], matrix[row][col])\n",
        "        # right\n",
        "        score *= find_trees([x for x in matrix[row][col+1: col_element]], matrix[row][col])\n",
        "        # top \n",
        "        score *= find_trees([x[col] for x in reversed(matrix[0:row])], matrix[row][col])\n",
        "        # bottom\n",
        "        score *= find_trees([x[col] for x in matrix[row+1:]], matrix[row][col])\n",
        "        if best_score_view < score:\n",
        "            best_score_view = score\n",
        "\n",
        "print(best_score_view)            \n",
        "            "
      ]
    },
    {
      "attachments": {},
      "cell_type": "markdown",
      "metadata": {},
      "source": [
        "# **DAY 9**"
      ]
    },
    {
      "cell_type": "code",
      "execution_count": 37,
      "metadata": {},
      "outputs": [],
      "source": [
        "\n",
        "steps = []\n",
        "\n",
        "with open(\"day9_input.txt\")as file:\n",
        "    for line in file:\n",
        "        steps.append([x for x in line.strip().split(\" \")])"
      ]
    },
    {
      "cell_type": "code",
      "execution_count": null,
      "metadata": {},
      "outputs": [],
      "source": [
        "\n",
        "last_pos_h = [0,0]\n",
        "list_pos_t = [[0,0]]\n",
        "last_pos_t = [0,0]\n",
        "\n",
        "for i in steps:\n",
        "    if i[0] == 'R':\n",
        "        last_pos_h[1] += int(i[1])\n",
        "        [list_pos_t.append([last_pos_h[0], x]) for x in range(last_pos_t[1]+1, last_pos_h[1])]\n",
        "    elif i[0] == 'L':\n",
        "        last_pos_h[1] -= int(i[1])\n",
        "        [list_pos_t.append([last_pos_h[0], x]) for x in range(last_pos_t[1]-1,last_pos_h[1], -1)]\n",
        "    elif i[0] == 'U':\n",
        "        last_pos_h[0] += int(i[1])\n",
        "        [list_pos_t.append([x, last_pos_h[1]]) for x in range(last_pos_t[0]+1, last_pos_h[0])]\n",
        "    elif i[0] == 'D':\n",
        "        last_pos_h[0] -= int(i[1])\n",
        "        [list_pos_t.append([x, last_pos_h[1]]) for x in range(last_pos_t[0]-1, last_pos_h[0], -1)]    \n",
        "    last_pos_t = list_pos_t[-1]\n",
        "\n",
        "print(len(set([str(x[0])+\" \"+str(x[1]) for x in list_pos_t]))) \n"
      ]
    },
    {
      "cell_type": "code",
      "execution_count": null,
      "metadata": {},
      "outputs": [],
      "source": [
        "list_last_pos = [[0,0], [0,0], [0,0], [0,0], [0,0], [0,0], [0,0], [0,0], [0,0], [0,0]]\n",
        "list_last_9 = []\n",
        "\n",
        "def move_head(direction, node):\n",
        "    if direction == 'R':\n",
        "        node[1] += 1\n",
        "    elif direction == 'L':\n",
        "        node[1] -= 1\n",
        "    elif direction == 'U':\n",
        "        node[0] += 1\n",
        "    elif direction == 'D':\n",
        "        node[0] -= 1\n",
        "\n",
        "def move_tail(direction, head, tail):\n",
        "    if head[0] == tail[0] and head[1] > tail[1]:\n",
        "        tail[1] += 1\n",
        "    elif head[0] == tail[0] and head[1] < tail[1]:\n",
        "        tail[1] -= 1\n",
        "    elif head[1] == tail[1] and head[0] > tail[0]:\n",
        "        tail[0] += 1\n",
        "    elif head[1] == tail[1] and head[0] < tail[0]:\n",
        "        tail[0] -= 1         \n",
        "    elif head[0] > tail[0] and head[1] > tail[1]:\n",
        "        tail[1] += 1\n",
        "        tail[0] += 1\n",
        "    elif head[0] > tail[0] and head[1] < tail[1]:\n",
        "        tail[0] += 1 \n",
        "        tail[1] -= 1    \n",
        "    elif head[0] < tail[0] and head[1] < tail[1]:\n",
        "        tail[0] -= 1\n",
        "        tail[1] -= 1   \n",
        "    elif head[0] < tail[0] and head[1] > tail[1]:\n",
        "        tail[0] -= 1\n",
        "        tail[1] += 1\n",
        "\n",
        "def check_move(head, tail):\n",
        "    if head[0]-tail[0] > 1 or head[0]-tail[0] < -1:\n",
        "        return True\n",
        "    elif head[1]-tail[1] > 1 or head[1]-tail[1] < -1:\n",
        "        return True  \n",
        "    return False\n",
        "\n",
        "for i in steps:\n",
        "    for j in range(0, int(i[1])):\n",
        "        move_head(i[0], list_last_pos[0])\n",
        "        for j in range(1, len(list_last_pos)):\n",
        "            if check_move(list_last_pos[j-1], list_last_pos[j]):\n",
        "                move_tail(i[0], list_last_pos[j-1], list_last_pos[j])\n",
        "            else:\n",
        "                break\n",
        "            list_last_9.append([list_last_pos[-1][0], list_last_pos[-1][1]])                 \n",
        "\n",
        "\n",
        "print(len(set([str(x[0])+ \" \" +str(x[1]) for x in list_last_9])))     "
      ]
    },
    {
      "attachments": {},
      "cell_type": "markdown",
      "metadata": {},
      "source": [
        "# **DAY 10**\n"
      ]
    },
    {
      "cell_type": "code",
      "execution_count": null,
      "metadata": {},
      "outputs": [],
      "source": [
        "instructions = []\n",
        "\n",
        "with open(\"day10_input.txt\")as file:\n",
        "    for line in file:\n",
        "        instructions.append([x for x in line.strip().split(\" \")])\n",
        "print(instructions)        "
      ]
    },
    {
      "cell_type": "code",
      "execution_count": 75,
      "metadata": {},
      "outputs": [
        {
          "name": "stdout",
          "output_type": "stream",
          "text": [
            "13740\n"
          ]
        }
      ],
      "source": [
        "# part 1\n",
        "\n",
        "time_step = []\n",
        "            \n",
        "x = 1\n",
        "start = 20\n",
        "clocks = 1\n",
        "\n",
        "for element in instructions:\n",
        "    if clocks == start or clocks == start-1:\n",
        "        time_step.append(x*start)\n",
        "        start += 40\n",
        "    if element[0] == 'addx':\n",
        "        clocks += 2\n",
        "        x += int(element[1])\n",
        "    else:\n",
        "        clocks += 1    \n",
        "\n",
        "print(sum(time_step))\n"
      ]
    }
  ],
  "metadata": {
    "colab": {
      "collapsed_sections": [
        "6b-qo8hUQtk4"
      ],
      "provenance": []
    },
    "kernelspec": {
      "display_name": "Python 3.10.7 64-bit",
      "language": "python",
      "name": "python3"
    },
    "language_info": {
      "codemirror_mode": {
        "name": "ipython",
        "version": 3
      },
      "file_extension": ".py",
      "mimetype": "text/x-python",
      "name": "python",
      "nbconvert_exporter": "python",
      "pygments_lexer": "ipython3",
      "version": "3.10.7"
    },
    "vscode": {
      "interpreter": {
        "hash": "916dbcbb3f70747c44a77c7bcd40155683ae19c65e1c03b4aa3499c5328201f1"
      }
    }
  },
  "nbformat": 4,
  "nbformat_minor": 0
}
