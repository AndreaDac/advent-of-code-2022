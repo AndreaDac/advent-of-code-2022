{
  "cells": [
    {
      "cell_type": "markdown",
      "metadata": {
        "id": "6b-qo8hUQtk4"
      },
      "source": [
        "# **DAY 1**\n",
        "\n",
        "\n"
      ]
    },
    {
      "cell_type": "code",
      "execution_count": null,
      "metadata": {
        "colab": {
          "base_uri": "https://localhost:8080/"
        },
        "id": "KQHdw8GJWZgn",
        "outputId": "f23a9c3f-9865-4cb3-957a-f1b5d50eef3a"
      },
      "outputs": [],
      "source": [
        "# read file with data input and create data structures \n",
        "\n",
        "dictionary = {}\n",
        "list_item = []\n",
        "count_elves = 0\n",
        "\n",
        "with open(\"day1_input.txt\") as file:\n",
        "  for line in file:\n",
        "    str_line = line.strip()\n",
        "    if str_line == \"\":\n",
        "      count_elves = count_elves+1\n",
        "      dictionary[count_elves] = list_item.copy()\n",
        "      list_item.clear()\n",
        "    else:\n",
        "      int_line = int(str_line)\n",
        "      list_item.append(int_line)\n"
      ]
    },
    {
      "cell_type": "code",
      "execution_count": null,
      "metadata": {
        "colab": {
          "base_uri": "https://localhost:8080/"
        },
        "id": "sOEKkE03h5bA",
        "outputId": "7535b28b-0d46-4826-e801-cf56162364f8"
      },
      "outputs": [],
      "source": [
        "# find elf with max of calories\n",
        "max = 0\n",
        "list_sum = []\n",
        "\n",
        "for key in dictionary:\n",
        "  list_value = dictionary[key]\n",
        "  sum_item = 0\n",
        "  for element in list_value:\n",
        "    sum_item += element\n",
        "  list_sum.append(sum_item)  \n",
        "  if sum_item >= max:\n",
        "    max = sum_item\n",
        "\n",
        "print(max) "
      ]
    },
    {
      "cell_type": "code",
      "execution_count": null,
      "metadata": {
        "colab": {
          "base_uri": "https://localhost:8080/"
        },
        "id": "lLhI-yucks9A",
        "outputId": "4b835e8f-82b0-4563-8307-42a2c523c25b"
      },
      "outputs": [],
      "source": [
        "# PART 2\n",
        "max_three = 0\n",
        "list_sum.sort()\n",
        "for element in list_sum[-3::]:\n",
        "  max_three += element\n",
        "print(max_three)\n",
        "\n",
        "\n"
      ]
    },
    {
      "cell_type": "markdown",
      "metadata": {
        "id": "oXKfmExNM1hu"
      },
      "source": [
        "# **DAY 2**"
      ]
    },
    {
      "cell_type": "code",
      "execution_count": 2,
      "metadata": {
        "colab": {
          "base_uri": "https://localhost:8080/"
        },
        "id": "P_mVbxKWM6en",
        "outputId": "596da932-0988-40cb-a20f-c66839724e0f"
      },
      "outputs": [],
      "source": [
        "# read input file \n",
        "list_combo = []\n",
        "\n",
        "with open(\"day2_input.txt\") as file:\n",
        "  for line in file:\n",
        "    strline = line.strip()\n",
        "    if strline == \"\":\n",
        "      pass\n",
        "    else:\n",
        "      list_tmp = []\n",
        "      list_tmp.append(strline[0])\n",
        "      list_tmp.append(strline[2])\n",
        "      list_combo.append(list_tmp)\n"
      ]
    },
    {
      "cell_type": "code",
      "execution_count": null,
      "metadata": {
        "colab": {
          "base_uri": "https://localhost:8080/"
        },
        "id": "oLiYdlWaUuBX",
        "outputId": "de535031-c83b-4de6-8e9b-f985f849600f"
      },
      "outputs": [],
      "source": [
        "# find final score\n",
        "score = 0\n",
        "\n",
        "list_enemy_choice = ['A','B','C']\n",
        "list_my_choice = ['X', 'Y', 'Z']\n",
        "\n",
        "def right_position(element):\n",
        "  list_mod = []\n",
        "  if element[0] == 'B':\n",
        "    list_mod.append('B')\n",
        "    list_mod.append('C')\n",
        "    list_mod.append('A')\n",
        "  elif element[0] == 'A':\n",
        "    list_mod.append('A')\n",
        "    list_mod.append('B')\n",
        "    list_mod.append('C')\n",
        "  elif element[0] == 'C':\n",
        "    list_mod.append('C')\n",
        "    list_mod.append('A')\n",
        "    list_mod.append('B')\n",
        "  return list_mod  \n",
        "\n",
        "def combination(x, list_y):\n",
        "  index = list_y.index(x)\n",
        "  if index == 0:\n",
        "    return 3\n",
        "  elif index == 1:\n",
        "    return 6\n",
        "  return 0 \n",
        "\n",
        "for element in list_combo:\n",
        "  score += list_my_choice.index(element[1])+1\n",
        "  list_tmp = right_position(element)\n",
        "  index_choice = list_my_choice.index(element[1])\n",
        "  score += combination(list_enemy_choice[index_choice], list_tmp)\n",
        "\n",
        "\n",
        "print(score)  "
      ]
    },
    {
      "cell_type": "code",
      "execution_count": null,
      "metadata": {
        "colab": {
          "base_uri": "https://localhost:8080/"
        },
        "id": "sSZA9azlCpEZ",
        "outputId": "d17e7136-a9bc-4016-a203-aba1a8788aeb"
      },
      "outputs": [],
      "source": [
        "# part 2\n",
        "\n",
        "right_score = 0\n",
        "\n",
        "def result(x,list_prediction):\n",
        "  score = 0\n",
        "  if x == 'X':\n",
        "    score += 0\n",
        "    score += sign(list_prediction[2])\n",
        "  elif x == 'Y':\n",
        "    score += 3\n",
        "    score += sign(list_prediction[0])\n",
        "  elif x == 'Z':\n",
        "    score += 6\n",
        "    score += sign(list_prediction[1])   \n",
        "  return score \n",
        "\n",
        "def sign(x):\n",
        "  if x == 'A':\n",
        "    return 1  \n",
        "  elif x == 'B':\n",
        "    return 2\n",
        "  return 3\n",
        "\n",
        "for element in list_combo:\n",
        "  list_tmp = right_position(element)\n",
        "  right_score += result(element[1], list_tmp)\n",
        "\n",
        "print(right_score)  "
      ]
    },
    {
      "cell_type": "markdown",
      "metadata": {},
      "source": [
        "# **DAY 3**"
      ]
    },
    {
      "cell_type": "code",
      "execution_count": null,
      "metadata": {},
      "outputs": [],
      "source": [
        "list_elements = []\n",
        "\n",
        "with open(\"day3_input.txt\") as file:\n",
        "  for line in file:\n",
        "    str_line = line.strip()\n",
        "    list_elements.append(str_line)\n",
        "\n",
        "print(list_elements)"
      ]
    },
    {
      "cell_type": "code",
      "execution_count": null,
      "metadata": {},
      "outputs": [],
      "source": [
        "sum = 0\n",
        "\n",
        "def find_sum(x):\n",
        "  if x.isupper():\n",
        "    return abs(ord(x)+62-100)\n",
        "  return abs(ord(x)+4-100)  \n",
        "\n",
        "\n",
        "for element in list_elements:\n",
        "  first = element[0:int(len(element)/2)]\n",
        "  second = element[int(len(element)/2):len(element)]\n",
        "  first_list = list(set(first))\n",
        "  second_list = list(set(second))\n",
        "  final_list = first_list + second_list\n",
        "  duplicates = [x for x in final_list if final_list.count(x) > 1]\n",
        "  if len(duplicates)>0:\n",
        "    sum += find_sum(duplicates[0])\n",
        "\n",
        "print(sum)    \n"
      ]
    },
    {
      "cell_type": "code",
      "execution_count": null,
      "metadata": {},
      "outputs": [],
      "source": [
        "# part 2 \n",
        "group_sum = 0\n",
        "group_list = []\n",
        "\n",
        "i = 0\n",
        "while i < len(list_elements)-1:\n",
        "  for i in range(i, i+3):\n",
        "    group_list += set(list_elements[i])\n",
        "    i = i+1\n",
        "  duplicates = [x for x in group_list if group_list.count(x) > 2]\n",
        "  group_sum+= find_sum(duplicates[0])  \n",
        "  group_list.clear()\n",
        "\n",
        "print(group_sum)"
      ]
    },
    {
      "cell_type": "markdown",
      "metadata": {},
      "source": [
        "# **DAY 4**"
      ]
    },
    {
      "cell_type": "code",
      "execution_count": 1,
      "metadata": {},
      "outputs": [],
      "source": [
        "list_elements = []\n",
        "\n",
        "with open(\"day4_input.txt\") as file:\n",
        "  for line in file:\n",
        "    str_line = line.strip().replace('-', \" \").replace(',', \" \").split(\" \")\n",
        "    list_elements.append([int(x) for x in str_line if type(x)== str])"
      ]
    },
    {
      "cell_type": "code",
      "execution_count": null,
      "metadata": {},
      "outputs": [],
      "source": [
        "def findsubset(x,y):\n",
        "  if len(x) >= len(y):\n",
        "    value = len(x)\n",
        "  else:\n",
        "    value = len(y)  \n",
        "  x += y\n",
        "  set_list = set(x)\n",
        "  if len(set_list) == value:\n",
        "    return True  \n",
        "  return False  \n",
        "  \n",
        "\n",
        "count = 0\n",
        "\n",
        "for element in list_elements:\n",
        "  list_first = [x for x in range(element[0], element[1]+1)]\n",
        "  list_second = [x for x in range(element[2], element[3]+1)]\n",
        "  if findsubset(list_first, list_second):\n",
        "    count += 1\n",
        "\n",
        "print(count)      "
      ]
    },
    {
      "cell_type": "code",
      "execution_count": null,
      "metadata": {},
      "outputs": [],
      "source": [
        "# part 2\n",
        "\n",
        "def findoverlap(x, y):\n",
        "  target = len(x) + len(y)\n",
        "  x += y\n",
        "  set_list = set(x)\n",
        "  if len(set_list) == target:\n",
        "    return False\n",
        "  return True  \n",
        "\n",
        "count = 0\n",
        "\n",
        "for element in list_elements:\n",
        "  list_first = [x for x in range(element[0], element[1]+1)]\n",
        "  list_second = [x for x in range(element[2], element[3]+1)]\n",
        "  if findoverlap(list_first, list_second):\n",
        "    count += 1\n",
        "\n",
        "print(count)"
      ]
    },
    {
      "cell_type": "markdown",
      "metadata": {},
      "source": [
        "# **DAY 5**"
      ]
    },
    {
      "cell_type": "code",
      "execution_count": 45,
      "metadata": {},
      "outputs": [],
      "source": [
        "def open_file_5():\n",
        "  map = {}\n",
        "  list_move = []\n",
        "  with open(\"day5_input.txt\") as file:\n",
        "    for line in file:\n",
        "      if line.find(\"[\") != -1:\n",
        "        list_element = [line[x] for x in range(1,len(line.rstrip()),4)]\n",
        "        [map.setdefault(x+1, []).append(list_element[x]) for x in range(0, len(list_element)) if list_element[x] != ' ']\n",
        "      elif line.find(\"move\") != -1:\n",
        "        line = line.rstrip().split()\n",
        "        list_move.append([line[x]for x in range(1, 6, 2)])\n",
        "  return map, list_move      \n",
        "  "
      ]
    },
    {
      "cell_type": "code",
      "execution_count": 47,
      "metadata": {},
      "outputs": [],
      "source": [
        "map, list_move = open_file_5()\n",
        "for element in list_move:\n",
        "  list_change = map[int(element[1])][0:int(element[0])]\n",
        "  map[int(element[2])][0:0] = list_change[::-1]\n",
        "  map[int(element[1])][0:int(element[0])] = []"
      ]
    },
    {
      "cell_type": "code",
      "execution_count": null,
      "metadata": {},
      "outputs": [],
      "source": [
        "result = \"\"\n",
        "for x in sorted(map.keys()):\n",
        "  result+= map[x][0]\n",
        "print(result)  "
      ]
    },
    {
      "cell_type": "code",
      "execution_count": 43,
      "metadata": {},
      "outputs": [],
      "source": [
        "map, list_move = open_file_5()\n",
        "for element in list_move:\n",
        "  list_change = map[int(element[1])][0:int(element[0])]\n",
        "  map[int(element[2])][0:0] = list_change\n",
        "  map[int(element[1])][0:int(element[0])] = []"
      ]
    },
    {
      "cell_type": "markdown",
      "metadata": {},
      "source": [
        "# **DAY 6**"
      ]
    },
    {
      "cell_type": "code",
      "execution_count": 3,
      "metadata": {},
      "outputs": [],
      "source": [
        "signal = \"\"\n",
        "with open(\"day6_input.txt\") as file:\n",
        "  for line in file:\n",
        "    signal += line.rstrip()   "
      ]
    },
    {
      "cell_type": "code",
      "execution_count": 9,
      "metadata": {},
      "outputs": [
        {
          "name": "stdout",
          "output_type": "stream",
          "text": [
            "1798\n"
          ]
        }
      ],
      "source": [
        "for i in range(0, len(signal)-3):\n",
        "  if len(set([x for x in signal[i:i+4]])) == 4:\n",
        "    print(i)\n",
        "    break\n"
      ]
    }
  ],
  "metadata": {
    "colab": {
      "collapsed_sections": [
        "6b-qo8hUQtk4"
      ],
      "provenance": []
    },
    "kernelspec": {
      "display_name": "Python 3.10.7 64-bit",
      "language": "python",
      "name": "python3"
    },
    "language_info": {
      "codemirror_mode": {
        "name": "ipython",
        "version": 3
      },
      "file_extension": ".py",
      "mimetype": "text/x-python",
      "name": "python",
      "nbconvert_exporter": "python",
      "pygments_lexer": "ipython3",
      "version": "3.10.7"
    },
    "vscode": {
      "interpreter": {
        "hash": "916dbcbb3f70747c44a77c7bcd40155683ae19c65e1c03b4aa3499c5328201f1"
      }
    }
  },
  "nbformat": 4,
  "nbformat_minor": 0
}
