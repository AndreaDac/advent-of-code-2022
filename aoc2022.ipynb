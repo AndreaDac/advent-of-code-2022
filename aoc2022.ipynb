{
  "cells": [
    {
      "cell_type": "markdown",
      "metadata": {
        "id": "6b-qo8hUQtk4"
      },
      "source": [
        "# ***DAY 1***\n",
        "\n",
        "\n"
      ]
    },
    {
      "cell_type": "code",
      "execution_count": null,
      "metadata": {
        "colab": {
          "base_uri": "https://localhost:8080/"
        },
        "id": "KQHdw8GJWZgn",
        "outputId": "f23a9c3f-9865-4cb3-957a-f1b5d50eef3a"
      },
      "outputs": [],
      "source": [
        "# read file with data input and create data structures \n",
        "\n",
        "dictionary = {}\n",
        "list_item = []\n",
        "count_elves = 0\n",
        "\n",
        "with open(\"day1_input.txt\") as file:\n",
        "  for line in file:\n",
        "    str_line = line.strip()\n",
        "    if str_line == \"\":\n",
        "      count_elves = count_elves+1\n",
        "      dictionary[count_elves] = list_item.copy()\n",
        "      list_item.clear()\n",
        "    else:\n",
        "      int_line = int(str_line)\n",
        "      list_item.append(int_line)\n"
      ]
    },
    {
      "cell_type": "code",
      "execution_count": null,
      "metadata": {
        "colab": {
          "base_uri": "https://localhost:8080/"
        },
        "id": "sOEKkE03h5bA",
        "outputId": "7535b28b-0d46-4826-e801-cf56162364f8"
      },
      "outputs": [],
      "source": [
        "# find elf with max of calories\n",
        "max = 0\n",
        "list_sum = []\n",
        "\n",
        "for key in dictionary:\n",
        "  list_value = dictionary[key]\n",
        "  sum_item = 0\n",
        "  for element in list_value:\n",
        "    sum_item += element\n",
        "  list_sum.append(sum_item)  \n",
        "  if sum_item >= max:\n",
        "    max = sum_item\n",
        "\n",
        "print(max) "
      ]
    },
    {
      "cell_type": "code",
      "execution_count": null,
      "metadata": {
        "colab": {
          "base_uri": "https://localhost:8080/"
        },
        "id": "lLhI-yucks9A",
        "outputId": "4b835e8f-82b0-4563-8307-42a2c523c25b"
      },
      "outputs": [],
      "source": [
        "# PART 2\n",
        "max_three = 0\n",
        "list_sum.sort()\n",
        "for element in list_sum[-3::]:\n",
        "  max_three += element\n",
        "print(max_three)\n",
        "\n",
        "\n"
      ]
    },
    {
      "cell_type": "markdown",
      "metadata": {
        "id": "oXKfmExNM1hu"
      },
      "source": [
        "# ***DAY 2***"
      ]
    },
    {
      "cell_type": "code",
      "execution_count": 2,
      "metadata": {
        "colab": {
          "base_uri": "https://localhost:8080/"
        },
        "id": "P_mVbxKWM6en",
        "outputId": "596da932-0988-40cb-a20f-c66839724e0f"
      },
      "outputs": [],
      "source": [
        "# read input file \n",
        "list_combo = []\n",
        "\n",
        "with open(\"day2_input.txt\") as file:\n",
        "  for line in file:\n",
        "    strline = line.strip()\n",
        "    if strline == \"\":\n",
        "      pass\n",
        "    else:\n",
        "      list_tmp = []\n",
        "      list_tmp.append(strline[0])\n",
        "      list_tmp.append(strline[2])\n",
        "      list_combo.append(list_tmp)\n"
      ]
    },
    {
      "cell_type": "code",
      "execution_count": null,
      "metadata": {
        "colab": {
          "base_uri": "https://localhost:8080/"
        },
        "id": "oLiYdlWaUuBX",
        "outputId": "de535031-c83b-4de6-8e9b-f985f849600f"
      },
      "outputs": [],
      "source": [
        "# find final score\n",
        "score = 0\n",
        "\n",
        "list_enemy_choice = ['A','B','C']\n",
        "list_my_choice = ['X', 'Y', 'Z']\n",
        "\n",
        "def right_position(element):\n",
        "  list_mod = []\n",
        "  if element[0] == 'B':\n",
        "    list_mod.append('B')\n",
        "    list_mod.append('C')\n",
        "    list_mod.append('A')\n",
        "  elif element[0] == 'A':\n",
        "    list_mod.append('A')\n",
        "    list_mod.append('B')\n",
        "    list_mod.append('C')\n",
        "  elif element[0] == 'C':\n",
        "    list_mod.append('C')\n",
        "    list_mod.append('A')\n",
        "    list_mod.append('B')\n",
        "  return list_mod  \n",
        "\n",
        "def combination(x, list_y):\n",
        "  index = list_y.index(x)\n",
        "  if index == 0:\n",
        "    return 3\n",
        "  elif index == 1:\n",
        "    return 6\n",
        "  return 0 \n",
        "\n",
        "for element in list_combo:\n",
        "  score += list_my_choice.index(element[1])+1\n",
        "  list_tmp = right_position(element)\n",
        "  index_choice = list_my_choice.index(element[1])\n",
        "  score += combination(list_enemy_choice[index_choice], list_tmp)\n",
        "\n",
        "\n",
        "print(score)  "
      ]
    },
    {
      "cell_type": "code",
      "execution_count": null,
      "metadata": {
        "colab": {
          "base_uri": "https://localhost:8080/"
        },
        "id": "sSZA9azlCpEZ",
        "outputId": "d17e7136-a9bc-4016-a203-aba1a8788aeb"
      },
      "outputs": [],
      "source": [
        "# part 2\n",
        "\n",
        "right_score = 0\n",
        "\n",
        "def result(x,list_prediction):\n",
        "  score = 0\n",
        "  if x == 'X':\n",
        "    score += 0\n",
        "    score += sign(list_prediction[2])\n",
        "  elif x == 'Y':\n",
        "    score += 3\n",
        "    score += sign(list_prediction[0])\n",
        "  elif x == 'Z':\n",
        "    score += 6\n",
        "    score += sign(list_prediction[1])   \n",
        "  return score \n",
        "\n",
        "def sign(x):\n",
        "  if x == 'A':\n",
        "    return 1  \n",
        "  elif x == 'B':\n",
        "    return 2\n",
        "  return 3\n",
        "\n",
        "for element in list_combo:\n",
        "  list_tmp = right_position(element)\n",
        "  right_score += result(element[1], list_tmp)\n",
        "\n",
        "print(right_score)  "
      ]
    },
    {
      "cell_type": "markdown",
      "metadata": {},
      "source": [
        "# ***DAY 3***"
      ]
    },
    {
      "cell_type": "code",
      "execution_count": null,
      "metadata": {},
      "outputs": [],
      "source": [
        "list_elements = []\n",
        "\n",
        "with open(\"day3_input.txt\") as file:\n",
        "  for line in file:\n",
        "    str_line = line.strip()\n",
        "    list_elements.append(str_line)\n",
        "\n",
        "print(list_elements)"
      ]
    },
    {
      "cell_type": "code",
      "execution_count": null,
      "metadata": {},
      "outputs": [],
      "source": [
        "# part 2\n",
        "sum = 0\n",
        "\n",
        "def find_sum(x):\n",
        "  if x.isupper():\n",
        "    return abs(ord(x)+62-100)\n",
        "  return abs(ord(x)+4-100)  \n",
        "\n",
        "\n",
        "for element in list_elements:\n",
        "  first = element[0:int(len(element)/2)]\n",
        "  second = element[int(len(element)/2):len(element)]\n",
        "  first_list = list(set(first))\n",
        "  second_list = list(set(second))\n",
        "  final_list = first_list + second_list\n",
        "  duplicates = [x for x in final_list if final_list.count(x) > 1]\n",
        "  if len(duplicates)>0:\n",
        "    sum += find_sum(duplicates[0])\n",
        "\n",
        "print(sum)    \n"
      ]
    },
    {
      "cell_type": "code",
      "execution_count": null,
      "metadata": {},
      "outputs": [],
      "source": [
        "group_sum = 0\n",
        "group_list = []\n",
        "\n",
        "i = 0\n",
        "while i < len(list_elements)-1:\n",
        "  for i in range(i, i+3):\n",
        "    group_list += set(list_elements[i])\n",
        "    i = i+1\n",
        "  duplicates = [x for x in group_list if group_list.count(x) > 2]\n",
        "  group_sum+= find_sum(duplicates[0])  \n",
        "  group_list.clear()\n",
        "\n",
        "print(group_sum)"
      ]
    }
  ],
  "metadata": {
    "colab": {
      "collapsed_sections": [
        "6b-qo8hUQtk4"
      ],
      "provenance": []
    },
    "kernelspec": {
      "display_name": "Python 3.10.7 64-bit",
      "language": "python",
      "name": "python3"
    },
    "language_info": {
      "codemirror_mode": {
        "name": "ipython",
        "version": 3
      },
      "file_extension": ".py",
      "mimetype": "text/x-python",
      "name": "python",
      "nbconvert_exporter": "python",
      "pygments_lexer": "ipython3",
      "version": "3.10.7"
    },
    "vscode": {
      "interpreter": {
        "hash": "916dbcbb3f70747c44a77c7bcd40155683ae19c65e1c03b4aa3499c5328201f1"
      }
    }
  },
  "nbformat": 4,
  "nbformat_minor": 0
}
